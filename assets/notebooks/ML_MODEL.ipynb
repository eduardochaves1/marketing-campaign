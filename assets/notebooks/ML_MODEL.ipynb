{
 "cells": [
  {
   "attachments": {},
   "cell_type": "markdown",
   "metadata": {},
   "source": [
    "# Machine Learning Model"
   ]
  },
  {
   "cell_type": "code",
   "execution_count": 10,
   "metadata": {},
   "outputs": [],
   "source": [
    "import pandas as pd\n",
    "import seaborn as sns\n",
    "import xgboost as xgb\n",
    "import joblib\n",
    "from statsmodels.stats.outliers_influence import variance_inflation_factor as vif\n",
    "from sklearn import metrics\n",
    "from sklearn.preprocessing import LabelEncoder, MinMaxScaler\n",
    "from sklearn.model_selection import train_test_split, cross_val_score"
   ]
  },
  {
   "cell_type": "code",
   "execution_count": 11,
   "metadata": {},
   "outputs": [],
   "source": [
    "def pipeline(path):\n",
    "  df = (pd\n",
    "    .read_csv(path, parse_dates=['date'])\n",
    "    .drop_duplicates()\n",
    "    .dropna())\n",
    "\n",
    "  df['sales_channel'] = df['sales_channel'].str.capitalize()\n",
    "  df = df.drop(df.query('invested < 1 or returned < 1').index)\n",
    "\n",
    "  df['year'] = df['date'].dt.year\n",
    "  df['month'] = df['date'].dt.month_name()\n",
    "  df['day'] = df['date'].dt.day\n",
    "  df['day_of_week'] = df['date'].dt.day_name()\n",
    "\n",
    "  df = df.drop('date', axis=1)\n",
    "\n",
    "  return df.reset_index(drop=True)\n",
    "\n",
    "# pipeline semelhante a usada na parte de EDA, porém aqui nós quebramos\n",
    "# a coluna da data em 3 colunas para dia, mes e ano para o modelo poder\n",
    "# detectar suas diferenças de maneira mais eficiente"
   ]
  },
  {
   "cell_type": "code",
   "execution_count": 12,
   "metadata": {},
   "outputs": [],
   "source": [
    "df = pipeline('../data.csv')\n",
    "# importando o dataset para treinar o modelo de machine learning"
   ]
  },
  {
   "cell_type": "code",
   "execution_count": 13,
   "metadata": {},
   "outputs": [
    {
     "data": {
      "text/html": [
       "<div>\n",
       "<style scoped>\n",
       "    .dataframe tbody tr th:only-of-type {\n",
       "        vertical-align: middle;\n",
       "    }\n",
       "\n",
       "    .dataframe tbody tr th {\n",
       "        vertical-align: top;\n",
       "    }\n",
       "\n",
       "    .dataframe thead th {\n",
       "        text-align: right;\n",
       "    }\n",
       "</style>\n",
       "<table border=\"1\" class=\"dataframe\">\n",
       "  <thead>\n",
       "    <tr style=\"text-align: right;\">\n",
       "      <th></th>\n",
       "      <th>invested</th>\n",
       "      <th>returned</th>\n",
       "      <th>sales_channel</th>\n",
       "      <th>year</th>\n",
       "      <th>month</th>\n",
       "      <th>day</th>\n",
       "      <th>day_of_week</th>\n",
       "    </tr>\n",
       "  </thead>\n",
       "  <tbody>\n",
       "    <tr>\n",
       "      <th>0</th>\n",
       "      <td>74025.0</td>\n",
       "      <td>108610.0</td>\n",
       "      <td>Print advertising</td>\n",
       "      <td>2020</td>\n",
       "      <td>January</td>\n",
       "      <td>1</td>\n",
       "      <td>Wednesday</td>\n",
       "    </tr>\n",
       "    <tr>\n",
       "      <th>1</th>\n",
       "      <td>33993.0</td>\n",
       "      <td>137278.0</td>\n",
       "      <td>Tv</td>\n",
       "      <td>2020</td>\n",
       "      <td>January</td>\n",
       "      <td>2</td>\n",
       "      <td>Thursday</td>\n",
       "    </tr>\n",
       "    <tr>\n",
       "      <th>2</th>\n",
       "      <td>92217.0</td>\n",
       "      <td>28635.0</td>\n",
       "      <td>Social media</td>\n",
       "      <td>2020</td>\n",
       "      <td>January</td>\n",
       "      <td>3</td>\n",
       "      <td>Friday</td>\n",
       "    </tr>\n",
       "    <tr>\n",
       "      <th>3</th>\n",
       "      <td>79190.0</td>\n",
       "      <td>34487.0</td>\n",
       "      <td>Radio</td>\n",
       "      <td>2020</td>\n",
       "      <td>January</td>\n",
       "      <td>4</td>\n",
       "      <td>Saturday</td>\n",
       "    </tr>\n",
       "    <tr>\n",
       "      <th>4</th>\n",
       "      <td>40134.0</td>\n",
       "      <td>43405.0</td>\n",
       "      <td>Social media</td>\n",
       "      <td>2020</td>\n",
       "      <td>January</td>\n",
       "      <td>5</td>\n",
       "      <td>Sunday</td>\n",
       "    </tr>\n",
       "    <tr>\n",
       "      <th>...</th>\n",
       "      <td>...</td>\n",
       "      <td>...</td>\n",
       "      <td>...</td>\n",
       "      <td>...</td>\n",
       "      <td>...</td>\n",
       "      <td>...</td>\n",
       "      <td>...</td>\n",
       "    </tr>\n",
       "    <tr>\n",
       "      <th>897</th>\n",
       "      <td>34306.0</td>\n",
       "      <td>14006.0</td>\n",
       "      <td>Tv</td>\n",
       "      <td>2022</td>\n",
       "      <td>December</td>\n",
       "      <td>27</td>\n",
       "      <td>Tuesday</td>\n",
       "    </tr>\n",
       "    <tr>\n",
       "      <th>898</th>\n",
       "      <td>42139.0</td>\n",
       "      <td>37726.0</td>\n",
       "      <td>Print advertising</td>\n",
       "      <td>2022</td>\n",
       "      <td>December</td>\n",
       "      <td>28</td>\n",
       "      <td>Wednesday</td>\n",
       "    </tr>\n",
       "    <tr>\n",
       "      <th>899</th>\n",
       "      <td>87553.0</td>\n",
       "      <td>47059.0</td>\n",
       "      <td>Radio</td>\n",
       "      <td>2022</td>\n",
       "      <td>December</td>\n",
       "      <td>29</td>\n",
       "      <td>Thursday</td>\n",
       "    </tr>\n",
       "    <tr>\n",
       "      <th>900</th>\n",
       "      <td>20543.0</td>\n",
       "      <td>13637.0</td>\n",
       "      <td>Tv</td>\n",
       "      <td>2022</td>\n",
       "      <td>December</td>\n",
       "      <td>30</td>\n",
       "      <td>Friday</td>\n",
       "    </tr>\n",
       "    <tr>\n",
       "      <th>901</th>\n",
       "      <td>99984.0</td>\n",
       "      <td>23371.0</td>\n",
       "      <td>Social media</td>\n",
       "      <td>2022</td>\n",
       "      <td>December</td>\n",
       "      <td>31</td>\n",
       "      <td>Saturday</td>\n",
       "    </tr>\n",
       "  </tbody>\n",
       "</table>\n",
       "<p>902 rows × 7 columns</p>\n",
       "</div>"
      ],
      "text/plain": [
       "     invested  returned      sales_channel  year     month  day day_of_week\n",
       "0     74025.0  108610.0  Print advertising  2020   January    1   Wednesday\n",
       "1     33993.0  137278.0                 Tv  2020   January    2    Thursday\n",
       "2     92217.0   28635.0       Social media  2020   January    3      Friday\n",
       "3     79190.0   34487.0              Radio  2020   January    4    Saturday\n",
       "4     40134.0   43405.0       Social media  2020   January    5      Sunday\n",
       "..        ...       ...                ...   ...       ...  ...         ...\n",
       "897   34306.0   14006.0                 Tv  2022  December   27     Tuesday\n",
       "898   42139.0   37726.0  Print advertising  2022  December   28   Wednesday\n",
       "899   87553.0   47059.0              Radio  2022  December   29    Thursday\n",
       "900   20543.0   13637.0                 Tv  2022  December   30      Friday\n",
       "901   99984.0   23371.0       Social media  2022  December   31    Saturday\n",
       "\n",
       "[902 rows x 7 columns]"
      ]
     },
     "execution_count": 13,
     "metadata": {},
     "output_type": "execute_result"
    }
   ],
   "source": [
    "df"
   ]
  },
  {
   "cell_type": "code",
   "execution_count": 14,
   "metadata": {},
   "outputs": [
    {
     "name": "stdout",
     "output_type": "stream",
     "text": [
      "<class 'pandas.core.frame.DataFrame'>\n",
      "RangeIndex: 902 entries, 0 to 901\n",
      "Data columns (total 7 columns):\n",
      " #   Column         Non-Null Count  Dtype  \n",
      "---  ------         --------------  -----  \n",
      " 0   invested       902 non-null    float64\n",
      " 1   returned       902 non-null    float64\n",
      " 2   sales_channel  902 non-null    object \n",
      " 3   year           902 non-null    int64  \n",
      " 4   month          902 non-null    object \n",
      " 5   day            902 non-null    int64  \n",
      " 6   day_of_week    902 non-null    object \n",
      "dtypes: float64(2), int64(2), object(3)\n",
      "memory usage: 49.5+ KB\n"
     ]
    }
   ],
   "source": [
    "df.info()"
   ]
  },
  {
   "cell_type": "code",
   "execution_count": 15,
   "metadata": {},
   "outputs": [
    {
     "data": {
      "text/html": [
       "<div>\n",
       "<style scoped>\n",
       "    .dataframe tbody tr th:only-of-type {\n",
       "        vertical-align: middle;\n",
       "    }\n",
       "\n",
       "    .dataframe tbody tr th {\n",
       "        vertical-align: top;\n",
       "    }\n",
       "\n",
       "    .dataframe thead th {\n",
       "        text-align: right;\n",
       "    }\n",
       "</style>\n",
       "<table border=\"1\" class=\"dataframe\">\n",
       "  <thead>\n",
       "    <tr style=\"text-align: right;\">\n",
       "      <th></th>\n",
       "      <th>invested</th>\n",
       "      <th>returned</th>\n",
       "      <th>sales_channel</th>\n",
       "      <th>year</th>\n",
       "      <th>month</th>\n",
       "      <th>day</th>\n",
       "      <th>day_of_week</th>\n",
       "    </tr>\n",
       "  </thead>\n",
       "  <tbody>\n",
       "    <tr>\n",
       "      <th>0</th>\n",
       "      <td>0.675147</td>\n",
       "      <td>0.758737</td>\n",
       "      <td>Print advertising</td>\n",
       "      <td>2020</td>\n",
       "      <td>January</td>\n",
       "      <td>1</td>\n",
       "      <td>Wednesday</td>\n",
       "    </tr>\n",
       "    <tr>\n",
       "      <th>1</th>\n",
       "      <td>0.174434</td>\n",
       "      <td>0.979663</td>\n",
       "      <td>Tv</td>\n",
       "      <td>2020</td>\n",
       "      <td>January</td>\n",
       "      <td>2</td>\n",
       "      <td>Thursday</td>\n",
       "    </tr>\n",
       "    <tr>\n",
       "      <th>2</th>\n",
       "      <td>0.902689</td>\n",
       "      <td>0.142421</td>\n",
       "      <td>Social media</td>\n",
       "      <td>2020</td>\n",
       "      <td>January</td>\n",
       "      <td>3</td>\n",
       "      <td>Friday</td>\n",
       "    </tr>\n",
       "    <tr>\n",
       "      <th>3</th>\n",
       "      <td>0.739750</td>\n",
       "      <td>0.187519</td>\n",
       "      <td>Radio</td>\n",
       "      <td>2020</td>\n",
       "      <td>January</td>\n",
       "      <td>4</td>\n",
       "      <td>Saturday</td>\n",
       "    </tr>\n",
       "    <tr>\n",
       "      <th>4</th>\n",
       "      <td>0.251245</td>\n",
       "      <td>0.256244</td>\n",
       "      <td>Social media</td>\n",
       "      <td>2020</td>\n",
       "      <td>January</td>\n",
       "      <td>5</td>\n",
       "      <td>Sunday</td>\n",
       "    </tr>\n",
       "  </tbody>\n",
       "</table>\n",
       "</div>"
      ],
      "text/plain": [
       "   invested  returned      sales_channel  year    month  day day_of_week\n",
       "0  0.675147  0.758737  Print advertising  2020  January    1   Wednesday\n",
       "1  0.174434  0.979663                 Tv  2020  January    2    Thursday\n",
       "2  0.902689  0.142421       Social media  2020  January    3      Friday\n",
       "3  0.739750  0.187519              Radio  2020  January    4    Saturday\n",
       "4  0.251245  0.256244       Social media  2020  January    5      Sunday"
      ]
     },
     "execution_count": 15,
     "metadata": {},
     "output_type": "execute_result"
    }
   ],
   "source": [
    "minMaxScaler_fit = [(feature, MinMaxScaler().fit(df[feature].values.reshape(-1,1))) for feature in ['invested', 'returned']]\n",
    "# list comprehension para gerar um array contendo tuplas com nome da feature\n",
    "# e o fit do MinMaxScaler nos valores da feature em si\n",
    "\n",
    "joblib.dump(minMaxScaler_fit, '../minMaxScaler_fit.jbl')\n",
    "# exportando o fit do MinMaxScaler de cada feature para usar posteriormente na dashboard do streamlit\n",
    "\n",
    "for feature, scaler in minMaxScaler_fit:\n",
    "  df[feature] = scaler.transform(df[feature].values.reshape(-1,1))\n",
    "  # for loop para aplicar a transformação em todas as features necessárias\n",
    "\n",
    "df.head()\n",
    "# agora os valores destas features possuem um min de 0 e max de 1,\n",
    "# porém a escala é a mesma dos dados originais. Dessa forma o modelo\n",
    "# consiguirá ser mais eficiênte em seu treinamento"
   ]
  },
  {
   "cell_type": "code",
   "execution_count": 16,
   "metadata": {},
   "outputs": [
    {
     "data": {
      "text/html": [
       "<div>\n",
       "<style scoped>\n",
       "    .dataframe tbody tr th:only-of-type {\n",
       "        vertical-align: middle;\n",
       "    }\n",
       "\n",
       "    .dataframe tbody tr th {\n",
       "        vertical-align: top;\n",
       "    }\n",
       "\n",
       "    .dataframe thead th {\n",
       "        text-align: right;\n",
       "    }\n",
       "</style>\n",
       "<table border=\"1\" class=\"dataframe\">\n",
       "  <thead>\n",
       "    <tr style=\"text-align: right;\">\n",
       "      <th></th>\n",
       "      <th>invested</th>\n",
       "      <th>returned</th>\n",
       "      <th>sales_channel</th>\n",
       "      <th>year</th>\n",
       "      <th>month</th>\n",
       "      <th>day</th>\n",
       "      <th>day_of_week</th>\n",
       "    </tr>\n",
       "  </thead>\n",
       "  <tbody>\n",
       "    <tr>\n",
       "      <th>0</th>\n",
       "      <td>0.675147</td>\n",
       "      <td>0.758737</td>\n",
       "      <td>0</td>\n",
       "      <td>2020</td>\n",
       "      <td>4</td>\n",
       "      <td>1</td>\n",
       "      <td>6</td>\n",
       "    </tr>\n",
       "    <tr>\n",
       "      <th>1</th>\n",
       "      <td>0.174434</td>\n",
       "      <td>0.979663</td>\n",
       "      <td>3</td>\n",
       "      <td>2020</td>\n",
       "      <td>4</td>\n",
       "      <td>2</td>\n",
       "      <td>4</td>\n",
       "    </tr>\n",
       "    <tr>\n",
       "      <th>2</th>\n",
       "      <td>0.902689</td>\n",
       "      <td>0.142421</td>\n",
       "      <td>2</td>\n",
       "      <td>2020</td>\n",
       "      <td>4</td>\n",
       "      <td>3</td>\n",
       "      <td>0</td>\n",
       "    </tr>\n",
       "    <tr>\n",
       "      <th>3</th>\n",
       "      <td>0.739750</td>\n",
       "      <td>0.187519</td>\n",
       "      <td>1</td>\n",
       "      <td>2020</td>\n",
       "      <td>4</td>\n",
       "      <td>4</td>\n",
       "      <td>2</td>\n",
       "    </tr>\n",
       "    <tr>\n",
       "      <th>4</th>\n",
       "      <td>0.251245</td>\n",
       "      <td>0.256244</td>\n",
       "      <td>2</td>\n",
       "      <td>2020</td>\n",
       "      <td>4</td>\n",
       "      <td>5</td>\n",
       "      <td>3</td>\n",
       "    </tr>\n",
       "  </tbody>\n",
       "</table>\n",
       "</div>"
      ],
      "text/plain": [
       "   invested  returned  sales_channel  year  month  day  day_of_week\n",
       "0  0.675147  0.758737              0  2020      4    1            6\n",
       "1  0.174434  0.979663              3  2020      4    2            4\n",
       "2  0.902689  0.142421              2  2020      4    3            0\n",
       "3  0.739750  0.187519              1  2020      4    4            2\n",
       "4  0.251245  0.256244              2  2020      4    5            3"
      ]
     },
     "execution_count": 16,
     "metadata": {},
     "output_type": "execute_result"
    }
   ],
   "source": [
    "labelEncoder_fit = [(feature, LabelEncoder().fit(df[feature])) for feature in df.select_dtypes('object').columns]\n",
    "# semelhante ao que foi feito acima com o MinMaxScaler, aqui está sendo feito com o LabelEncoder\n",
    "\n",
    "joblib.dump(labelEncoder_fit, '../labelEncoder_fit.jbl')\n",
    "# exportando pelo mesmo motivo explicado anteriormente\n",
    "\n",
    "for feature, fit in labelEncoder_fit:\n",
    "  df[feature] = fit.transform(df[feature])\n",
    "\n",
    "df.head()\n",
    "# agora as features categóricas estão diferenciadas numericamente (0,1,2,...)\n",
    "# isso é feito para que o modelo seja treinado corretamente, já que ele não é\n",
    "# capaz de diferenciar strings, e sim números"
   ]
  },
  {
   "cell_type": "code",
   "execution_count": 17,
   "metadata": {},
   "outputs": [
    {
     "data": {
      "text/html": [
       "<div>\n",
       "<style scoped>\n",
       "    .dataframe tbody tr th:only-of-type {\n",
       "        vertical-align: middle;\n",
       "    }\n",
       "\n",
       "    .dataframe tbody tr th {\n",
       "        vertical-align: top;\n",
       "    }\n",
       "\n",
       "    .dataframe thead th {\n",
       "        text-align: right;\n",
       "    }\n",
       "</style>\n",
       "<table border=\"1\" class=\"dataframe\">\n",
       "  <thead>\n",
       "    <tr style=\"text-align: right;\">\n",
       "      <th></th>\n",
       "      <th>invested</th>\n",
       "      <th>returned</th>\n",
       "      <th>sales_channel</th>\n",
       "      <th>year</th>\n",
       "      <th>month</th>\n",
       "      <th>day</th>\n",
       "      <th>day_of_week</th>\n",
       "    </tr>\n",
       "  </thead>\n",
       "  <tbody>\n",
       "    <tr>\n",
       "      <th>count</th>\n",
       "      <td>902.000000</td>\n",
       "      <td>902.000000</td>\n",
       "      <td>902.000000</td>\n",
       "      <td>902.000000</td>\n",
       "      <td>902.000000</td>\n",
       "      <td>902.000000</td>\n",
       "      <td>902.000000</td>\n",
       "    </tr>\n",
       "    <tr>\n",
       "      <th>mean</th>\n",
       "      <td>0.508875</td>\n",
       "      <td>0.502045</td>\n",
       "      <td>1.810421</td>\n",
       "      <td>2020.984479</td>\n",
       "      <td>5.506652</td>\n",
       "      <td>15.832594</td>\n",
       "      <td>2.990022</td>\n",
       "    </tr>\n",
       "    <tr>\n",
       "      <th>std</th>\n",
       "      <td>0.295612</td>\n",
       "      <td>0.291207</td>\n",
       "      <td>1.062206</td>\n",
       "      <td>0.825363</td>\n",
       "      <td>3.443771</td>\n",
       "      <td>8.843799</td>\n",
       "      <td>1.990240</td>\n",
       "    </tr>\n",
       "    <tr>\n",
       "      <th>min</th>\n",
       "      <td>0.000000</td>\n",
       "      <td>0.000000</td>\n",
       "      <td>0.000000</td>\n",
       "      <td>2020.000000</td>\n",
       "      <td>0.000000</td>\n",
       "      <td>1.000000</td>\n",
       "      <td>0.000000</td>\n",
       "    </tr>\n",
       "    <tr>\n",
       "      <th>25%</th>\n",
       "      <td>0.259415</td>\n",
       "      <td>0.253607</td>\n",
       "      <td>1.000000</td>\n",
       "      <td>2020.000000</td>\n",
       "      <td>2.250000</td>\n",
       "      <td>8.000000</td>\n",
       "      <td>1.000000</td>\n",
       "    </tr>\n",
       "    <tr>\n",
       "      <th>50%</th>\n",
       "      <td>0.498649</td>\n",
       "      <td>0.505391</td>\n",
       "      <td>2.000000</td>\n",
       "      <td>2021.000000</td>\n",
       "      <td>5.500000</td>\n",
       "      <td>16.000000</td>\n",
       "      <td>3.000000</td>\n",
       "    </tr>\n",
       "    <tr>\n",
       "      <th>75%</th>\n",
       "      <td>0.780269</td>\n",
       "      <td>0.753011</td>\n",
       "      <td>3.000000</td>\n",
       "      <td>2022.000000</td>\n",
       "      <td>9.000000</td>\n",
       "      <td>23.000000</td>\n",
       "      <td>5.000000</td>\n",
       "    </tr>\n",
       "    <tr>\n",
       "      <th>max</th>\n",
       "      <td>1.000000</td>\n",
       "      <td>1.000000</td>\n",
       "      <td>3.000000</td>\n",
       "      <td>2022.000000</td>\n",
       "      <td>11.000000</td>\n",
       "      <td>31.000000</td>\n",
       "      <td>6.000000</td>\n",
       "    </tr>\n",
       "  </tbody>\n",
       "</table>\n",
       "</div>"
      ],
      "text/plain": [
       "         invested    returned  sales_channel         year       month  \\\n",
       "count  902.000000  902.000000     902.000000   902.000000  902.000000   \n",
       "mean     0.508875    0.502045       1.810421  2020.984479    5.506652   \n",
       "std      0.295612    0.291207       1.062206     0.825363    3.443771   \n",
       "min      0.000000    0.000000       0.000000  2020.000000    0.000000   \n",
       "25%      0.259415    0.253607       1.000000  2020.000000    2.250000   \n",
       "50%      0.498649    0.505391       2.000000  2021.000000    5.500000   \n",
       "75%      0.780269    0.753011       3.000000  2022.000000    9.000000   \n",
       "max      1.000000    1.000000       3.000000  2022.000000   11.000000   \n",
       "\n",
       "              day  day_of_week  \n",
       "count  902.000000   902.000000  \n",
       "mean    15.832594     2.990022  \n",
       "std      8.843799     1.990240  \n",
       "min      1.000000     0.000000  \n",
       "25%      8.000000     1.000000  \n",
       "50%     16.000000     3.000000  \n",
       "75%     23.000000     5.000000  \n",
       "max     31.000000     6.000000  "
      ]
     },
     "execution_count": 17,
     "metadata": {},
     "output_type": "execute_result"
    }
   ],
   "source": [
    "df.describe()\n",
    "# todas colunas agora são numéricas e podemos ver nas 2 primeiras colunas\n",
    "# que o min e max estão 0 e 1 como foi dito anteriormente"
   ]
  },
  {
   "cell_type": "code",
   "execution_count": 18,
   "metadata": {},
   "outputs": [
    {
     "name": "stdout",
     "output_type": "stream",
     "text": [
      "<class 'pandas.core.frame.DataFrame'>\n",
      "RangeIndex: 902 entries, 0 to 901\n",
      "Data columns (total 7 columns):\n",
      " #   Column         Non-Null Count  Dtype  \n",
      "---  ------         --------------  -----  \n",
      " 0   invested       902 non-null    float64\n",
      " 1   returned       902 non-null    float64\n",
      " 2   sales_channel  902 non-null    int64  \n",
      " 3   year           902 non-null    int64  \n",
      " 4   month          902 non-null    int64  \n",
      " 5   day            902 non-null    int64  \n",
      " 6   day_of_week    902 non-null    int64  \n",
      "dtypes: float64(2), int64(5)\n",
      "memory usage: 49.5 KB\n"
     ]
    }
   ],
   "source": [
    "df.info()"
   ]
  },
  {
   "cell_type": "code",
   "execution_count": 19,
   "metadata": {},
   "outputs": [
    {
     "data": {
      "text/plain": [
       "<AxesSubplot: >"
      ]
     },
     "execution_count": 19,
     "metadata": {},
     "output_type": "execute_result"
    },
    {
     "data": {
      "image/png": "[encoded data removed]",
      "text/plain": [
       "<Figure size 640x480 with 2 Axes>"
      ]
     },
     "metadata": {},
     "output_type": "display_data"
    }
   ],
   "source": [
    "sns.heatmap(df.corr())\n",
    "# observando a correlação entre as features para detectar a possível necessidade\n",
    "# de remoção de alguma feature em caso de alta correlação com outra, porém aqui\n",
    "# por se tratar de dados que foram gerados aleatóriamente, não detectamos correlação"
   ]
  },
  {
   "cell_type": "code",
   "execution_count": 20,
   "metadata": {},
   "outputs": [
    {
     "data": {
      "text/plain": [
       "invested          3.997807\n",
       "returned          3.983150\n",
       "sales_channel     3.924632\n",
       "year             17.016513\n",
       "month             3.563377\n",
       "day               4.235062\n",
       "day_of_week       3.264452\n",
       "dtype: float64"
      ]
     },
     "execution_count": 20,
     "metadata": {},
     "output_type": "execute_result"
    }
   ],
   "source": [
    "pd.Series([vif(df.values, i) for i in range(len(df.columns))], index=df.columns)\n",
    "# verificando o VIF (variance_inflation_factor) que demonstra o nível de multicolíneariede\n",
    "# entre as features, e podemos perceber que a coluna do ano possui um alto valor e isso pode\n",
    "# porejudicar a precisão do modelo a ser treinado\n",
    "\n",
    "# eu cheguei a remover esta coluna para ver se a precisão do modelo melhorasse, mas na verdade\n",
    "# piorou, então decidi mantê-lo normalmente"
   ]
  },
  {
   "cell_type": "code",
   "execution_count": 21,
   "metadata": {},
   "outputs": [],
   "source": [
    "x = df.drop('returned', axis=1)\n",
    "y = df['returned']\n",
    "# separando as features preditivas da feature a ser prevista (target feature)"
   ]
  },
  {
   "cell_type": "code",
   "execution_count": 22,
   "metadata": {},
   "outputs": [
    {
     "data": {
      "text/html": [
       "<div>\n",
       "<style scoped>\n",
       "    .dataframe tbody tr th:only-of-type {\n",
       "        vertical-align: middle;\n",
       "    }\n",
       "\n",
       "    .dataframe tbody tr th {\n",
       "        vertical-align: top;\n",
       "    }\n",
       "\n",
       "    .dataframe thead th {\n",
       "        text-align: right;\n",
       "    }\n",
       "</style>\n",
       "<table border=\"1\" class=\"dataframe\">\n",
       "  <thead>\n",
       "    <tr style=\"text-align: right;\">\n",
       "      <th></th>\n",
       "      <th>invested</th>\n",
       "      <th>sales_channel</th>\n",
       "      <th>year</th>\n",
       "      <th>month</th>\n",
       "      <th>day</th>\n",
       "      <th>day_of_week</th>\n",
       "    </tr>\n",
       "  </thead>\n",
       "  <tbody>\n",
       "    <tr>\n",
       "      <th>0</th>\n",
       "      <td>0.675147</td>\n",
       "      <td>0</td>\n",
       "      <td>2020</td>\n",
       "      <td>4</td>\n",
       "      <td>1</td>\n",
       "      <td>6</td>\n",
       "    </tr>\n",
       "    <tr>\n",
       "      <th>1</th>\n",
       "      <td>0.174434</td>\n",
       "      <td>3</td>\n",
       "      <td>2020</td>\n",
       "      <td>4</td>\n",
       "      <td>2</td>\n",
       "      <td>4</td>\n",
       "    </tr>\n",
       "    <tr>\n",
       "      <th>2</th>\n",
       "      <td>0.902689</td>\n",
       "      <td>2</td>\n",
       "      <td>2020</td>\n",
       "      <td>4</td>\n",
       "      <td>3</td>\n",
       "      <td>0</td>\n",
       "    </tr>\n",
       "    <tr>\n",
       "      <th>3</th>\n",
       "      <td>0.739750</td>\n",
       "      <td>1</td>\n",
       "      <td>2020</td>\n",
       "      <td>4</td>\n",
       "      <td>4</td>\n",
       "      <td>2</td>\n",
       "    </tr>\n",
       "    <tr>\n",
       "      <th>4</th>\n",
       "      <td>0.251245</td>\n",
       "      <td>2</td>\n",
       "      <td>2020</td>\n",
       "      <td>4</td>\n",
       "      <td>5</td>\n",
       "      <td>3</td>\n",
       "    </tr>\n",
       "    <tr>\n",
       "      <th>...</th>\n",
       "      <td>...</td>\n",
       "      <td>...</td>\n",
       "      <td>...</td>\n",
       "      <td>...</td>\n",
       "      <td>...</td>\n",
       "      <td>...</td>\n",
       "    </tr>\n",
       "    <tr>\n",
       "      <th>897</th>\n",
       "      <td>0.178349</td>\n",
       "      <td>3</td>\n",
       "      <td>2022</td>\n",
       "      <td>2</td>\n",
       "      <td>27</td>\n",
       "      <td>5</td>\n",
       "    </tr>\n",
       "    <tr>\n",
       "      <th>898</th>\n",
       "      <td>0.276323</td>\n",
       "      <td>0</td>\n",
       "      <td>2022</td>\n",
       "      <td>2</td>\n",
       "      <td>28</td>\n",
       "      <td>6</td>\n",
       "    </tr>\n",
       "    <tr>\n",
       "      <th>899</th>\n",
       "      <td>0.844353</td>\n",
       "      <td>1</td>\n",
       "      <td>2022</td>\n",
       "      <td>2</td>\n",
       "      <td>29</td>\n",
       "      <td>4</td>\n",
       "    </tr>\n",
       "    <tr>\n",
       "      <th>900</th>\n",
       "      <td>0.006204</td>\n",
       "      <td>3</td>\n",
       "      <td>2022</td>\n",
       "      <td>2</td>\n",
       "      <td>30</td>\n",
       "      <td>0</td>\n",
       "    </tr>\n",
       "    <tr>\n",
       "      <th>901</th>\n",
       "      <td>0.999837</td>\n",
       "      <td>2</td>\n",
       "      <td>2022</td>\n",
       "      <td>2</td>\n",
       "      <td>31</td>\n",
       "      <td>2</td>\n",
       "    </tr>\n",
       "  </tbody>\n",
       "</table>\n",
       "<p>902 rows × 6 columns</p>\n",
       "</div>"
      ],
      "text/plain": [
       "     invested  sales_channel  year  month  day  day_of_week\n",
       "0    0.675147              0  2020      4    1            6\n",
       "1    0.174434              3  2020      4    2            4\n",
       "2    0.902689              2  2020      4    3            0\n",
       "3    0.739750              1  2020      4    4            2\n",
       "4    0.251245              2  2020      4    5            3\n",
       "..        ...            ...   ...    ...  ...          ...\n",
       "897  0.178349              3  2022      2   27            5\n",
       "898  0.276323              0  2022      2   28            6\n",
       "899  0.844353              1  2022      2   29            4\n",
       "900  0.006204              3  2022      2   30            0\n",
       "901  0.999837              2  2022      2   31            2\n",
       "\n",
       "[902 rows x 6 columns]"
      ]
     },
     "execution_count": 22,
     "metadata": {},
     "output_type": "execute_result"
    }
   ],
   "source": [
    "x"
   ]
  },
  {
   "cell_type": "code",
   "execution_count": 23,
   "metadata": {},
   "outputs": [
    {
     "data": {
      "text/plain": [
       "0      0.758737\n",
       "1      0.979663\n",
       "2      0.142421\n",
       "3      0.187519\n",
       "4      0.256244\n",
       "         ...   \n",
       "897    0.029685\n",
       "898    0.212480\n",
       "899    0.284403\n",
       "900    0.026841\n",
       "901    0.101855\n",
       "Name: returned, Length: 902, dtype: float64"
      ]
     },
     "execution_count": 23,
     "metadata": {},
     "output_type": "execute_result"
    }
   ],
   "source": [
    "y"
   ]
  },
  {
   "cell_type": "code",
   "execution_count": 24,
   "metadata": {},
   "outputs": [],
   "source": [
    "x_train, x_test, y_train, y_test = train_test_split(x, y, test_size=.2, random_state=7)\n",
    "# realizando o split entre os dados para treino e teste"
   ]
  },
  {
   "cell_type": "code",
   "execution_count": 25,
   "metadata": {},
   "outputs": [
    {
     "name": "stdout",
     "output_type": "stream",
     "text": [
      "x_train = (721, 6) | y_train = (721,) | x_test = (181, 6) | y_test = (181,)\n"
     ]
    }
   ],
   "source": [
    "print(f'x_train = {x_train.shape} | y_train = {y_train.shape} | x_test = {x_test.shape} | y_test = {y_test.shape}')\n",
    "# observando o tamanho de cada set (linhas, colunas)"
   ]
  },
  {
   "cell_type": "code",
   "execution_count": 26,
   "metadata": {},
   "outputs": [],
   "source": [
    "model = xgb.XGBRegressor(eval_metric='rmsle')\n",
    "# eu pessoalmente gosto dos modelos do LGBM, mas neste projeto decidi usar o famoso\n",
    "# XGBoost como seu modelo de regressão pois nunca usei-o previamente e queria testá-lo"
   ]
  },
  {
   "attachments": {},
   "cell_type": "markdown",
   "metadata": {},
   "source": [
    "> **OBS.:** A partir da próxima célula, eu estarei usando `minMaxScaler_fit[1][1].inverse_transform(value)` para retornar o valor previsto de retorno na escala anterior à aplicação do MinMaxScaler, caso contrário o *output* será na escala entre 0 e 1, o que dificultaria no entendimento do nível de precisão do modelo."
   ]
  },
  {
   "attachments": {},
   "cell_type": "markdown",
   "metadata": {},
   "source": [
    "> **OBS2.:** Todas as métricas de avaliação de precisão do modelo usadas neste notebook se tratam do RMSE (root mean squared error =~ raiz do erro médio quadrado), onde quanto menor melhor, já que se trata do quão distante o valor previsto deve estar do valor real da nossa feature target (retorno monetário)"
   ]
  },
  {
   "cell_type": "code",
   "execution_count": 27,
   "metadata": {},
   "outputs": [
    {
     "data": {
      "text/plain": [
       "array([[-34416.30280626]])"
      ]
     },
     "execution_count": 27,
     "metadata": {},
     "output_type": "execute_result"
    }
   ],
   "source": [
    "cross_scrore = cross_val_score(model, x_train, y_train, cv=5, scoring='neg_root_mean_squared_error').mean()\n",
    "# realizando um cross validation para obter uma métrica de precisão mais geral ao treinar e testar\n",
    "# em 5 partes de todo o set de treino, devolvendo a métrica de RMSE\n",
    "\n",
    "minMaxScaler_fit[1][1].inverse_transform([[cross_scrore]])\n",
    "# transformando o valor na escala anterior do dataset"
   ]
  },
  {
   "cell_type": "code",
   "execution_count": 28,
   "metadata": {},
   "outputs": [
    {
     "data": {
      "text/plain": [
       "-0.34347466385841885"
      ]
     },
     "execution_count": 28,
     "metadata": {},
     "output_type": "execute_result"
    }
   ],
   "source": [
    "cross_scrore\n",
    "# exemplificando aqui como seria o output caso não revertesse a escala"
   ]
  },
  {
   "cell_type": "code",
   "execution_count": 29,
   "metadata": {},
   "outputs": [
    {
     "data": {
      "text/html": [
       "<style>#sk-container-id-1 {color: black;background-color: white;}#sk-container-id-1 pre{padding: 0;}#sk-container-id-1 div.sk-toggleable {background-color: white;}#sk-container-id-1 label.sk-toggleable__label {cursor: pointer;display: block;width: 100%;margin-bottom: 0;padding: 0.3em;box-sizing: border-box;text-align: center;}#sk-container-id-1 label.sk-toggleable__label-arrow:before {content: \"▸\";float: left;margin-right: 0.25em;color: #696969;}#sk-container-id-1 label.sk-toggleable__label-arrow:hover:before {color: black;}#sk-container-id-1 div.sk-estimator:hover label.sk-toggleable__label-arrow:before {color: black;}#sk-container-id-1 div.sk-toggleable__content {max-height: 0;max-width: 0;overflow: hidden;text-align: left;background-color: #f0f8ff;}#sk-container-id-1 div.sk-toggleable__content pre {margin: 0.2em;color: black;border-radius: 0.25em;background-color: #f0f8ff;}#sk-container-id-1 input.sk-toggleable__control:checked~div.sk-toggleable__content {max-height: 200px;max-width: 100%;overflow: auto;}#sk-container-id-1 input.sk-toggleable__control:checked~label.sk-toggleable__label-arrow:before {content: \"▾\";}#sk-container-id-1 div.sk-estimator input.sk-toggleable__control:checked~label.sk-toggleable__label {background-color: #d4ebff;}#sk-container-id-1 div.sk-label input.sk-toggleable__control:checked~label.sk-toggleable__label {background-color: #d4ebff;}#sk-container-id-1 input.sk-hidden--visually {border: 0;clip: rect(1px 1px 1px 1px);clip: rect(1px, 1px, 1px, 1px);height: 1px;margin: -1px;overflow: hidden;padding: 0;position: absolute;width: 1px;}#sk-container-id-1 div.sk-estimator {font-family: monospace;background-color: #f0f8ff;border: 1px dotted black;border-radius: 0.25em;box-sizing: border-box;margin-bottom: 0.5em;}#sk-container-id-1 div.sk-estimator:hover {background-color: #d4ebff;}#sk-container-id-1 div.sk-parallel-item::after {content: \"\";width: 100%;border-bottom: 1px solid gray;flex-grow: 1;}#sk-container-id-1 div.sk-label:hover label.sk-toggleable__label {background-color: #d4ebff;}#sk-container-id-1 div.sk-serial::before {content: \"\";position: absolute;border-left: 1px solid gray;box-sizing: border-box;top: 0;bottom: 0;left: 50%;z-index: 0;}#sk-container-id-1 div.sk-serial {display: flex;flex-direction: column;align-items: center;background-color: white;padding-right: 0.2em;padding-left: 0.2em;position: relative;}#sk-container-id-1 div.sk-item {position: relative;z-index: 1;}#sk-container-id-1 div.sk-parallel {display: flex;align-items: stretch;justify-content: center;background-color: white;position: relative;}#sk-container-id-1 div.sk-item::before, #sk-container-id-1 div.sk-parallel-item::before {content: \"\";position: absolute;border-left: 1px solid gray;box-sizing: border-box;top: 0;bottom: 0;left: 50%;z-index: -1;}#sk-container-id-1 div.sk-parallel-item {display: flex;flex-direction: column;z-index: 1;position: relative;background-color: white;}#sk-container-id-1 div.sk-parallel-item:first-child::after {align-self: flex-end;width: 50%;}#sk-container-id-1 div.sk-parallel-item:last-child::after {align-self: flex-start;width: 50%;}#sk-container-id-1 div.sk-parallel-item:only-child::after {width: 0;}#sk-container-id-1 div.sk-dashed-wrapped {border: 1px dashed gray;margin: 0 0.4em 0.5em 0.4em;box-sizing: border-box;padding-bottom: 0.4em;background-color: white;}#sk-container-id-1 div.sk-label label {font-family: monospace;font-weight: bold;display: inline-block;line-height: 1.2em;}#sk-container-id-1 div.sk-label-container {text-align: center;}#sk-container-id-1 div.sk-container {/* jupyter's `normalize.less` sets `[hidden] { display: none; }` but bootstrap.min.css set `[hidden] { display: none !important; }` so we also need the `!important` here to be able to override the default hidden behavior on the sphinx rendered scikit-learn.org. See: https://github.com/scikit-learn/scikit-learn/issues/21755 */display: inline-block !important;position: relative;}#sk-container-id-1 div.sk-text-repr-fallback {display: none;}</style><div id=\"sk-container-id-1\" class=\"sk-top-container\"><div class=\"sk-text-repr-fallback\"><pre>XGBRegressor(base_score=None, booster=None, callbacks=None,\n",
       "             colsample_bylevel=None, colsample_bynode=None,\n",
       "             colsample_bytree=None, early_stopping_rounds=None,\n",
       "             enable_categorical=False, eval_metric=&#x27;rmsle&#x27;, feature_types=None,\n",
       "             gamma=None, gpu_id=None, grow_policy=None, importance_type=None,\n",
       "             interaction_constraints=None, learning_rate=None, max_bin=None,\n",
       "             max_cat_threshold=None, max_cat_to_onehot=None,\n",
       "             max_delta_step=None, max_depth=None, max_leaves=None,\n",
       "             min_child_weight=None, missing=nan, monotone_constraints=None,\n",
       "             n_estimators=100, n_jobs=None, num_parallel_tree=None,\n",
       "             predictor=None, random_state=None, ...)</pre><b>In a Jupyter environment, please rerun this cell to show the HTML representation or trust the notebook. <br />On GitHub, the HTML representation is unable to render, please try loading this page with nbviewer.org.</b></div><div class=\"sk-container\" hidden><div class=\"sk-item\"><div class=\"sk-estimator sk-toggleable\"><input class=\"sk-toggleable__control sk-hidden--visually\" id=\"sk-estimator-id-1\" type=\"checkbox\" checked><label for=\"sk-estimator-id-1\" class=\"sk-toggleable__label sk-toggleable__label-arrow\">XGBRegressor</label><div class=\"sk-toggleable__content\"><pre>XGBRegressor(base_score=None, booster=None, callbacks=None,\n",
       "             colsample_bylevel=None, colsample_bynode=None,\n",
       "             colsample_bytree=None, early_stopping_rounds=None,\n",
       "             enable_categorical=False, eval_metric=&#x27;rmsle&#x27;, feature_types=None,\n",
       "             gamma=None, gpu_id=None, grow_policy=None, importance_type=None,\n",
       "             interaction_constraints=None, learning_rate=None, max_bin=None,\n",
       "             max_cat_threshold=None, max_cat_to_onehot=None,\n",
       "             max_delta_step=None, max_depth=None, max_leaves=None,\n",
       "             min_child_weight=None, missing=nan, monotone_constraints=None,\n",
       "             n_estimators=100, n_jobs=None, num_parallel_tree=None,\n",
       "             predictor=None, random_state=None, ...)</pre></div></div></div></div></div>"
      ],
      "text/plain": [
       "XGBRegressor(base_score=None, booster=None, callbacks=None,\n",
       "             colsample_bylevel=None, colsample_bynode=None,\n",
       "             colsample_bytree=None, early_stopping_rounds=None,\n",
       "             enable_categorical=False, eval_metric='rmsle', feature_types=None,\n",
       "             gamma=None, gpu_id=None, grow_policy=None, importance_type=None,\n",
       "             interaction_constraints=None, learning_rate=None, max_bin=None,\n",
       "             max_cat_threshold=None, max_cat_to_onehot=None,\n",
       "             max_delta_step=None, max_depth=None, max_leaves=None,\n",
       "             min_child_weight=None, missing=nan, monotone_constraints=None,\n",
       "             n_estimators=100, n_jobs=None, num_parallel_tree=None,\n",
       "             predictor=None, random_state=None, ...)"
      ]
     },
     "execution_count": 29,
     "metadata": {},
     "output_type": "execute_result"
    }
   ],
   "source": [
    "model.fit(x_train, y_train)\n",
    "# treinando o modelo com o set de treino x e y"
   ]
  },
  {
   "cell_type": "code",
   "execution_count": 30,
   "metadata": {},
   "outputs": [],
   "source": [
    "y_predict = model.predict(x_test)\n",
    "# usando o modelo treinado para prever os valores do set de teste"
   ]
  },
  {
   "cell_type": "code",
   "execution_count": 31,
   "metadata": {},
   "outputs": [
    {
     "data": {
      "text/plain": [
       "array([[59597.03427041, 79842.63246822, 78936.17490631, 70770.57760936,\n",
       "        78144.4969908 , 82086.9458102 , 51615.45566261, 98825.77057284,\n",
       "        67450.05039287,  5408.2904016 ]])"
      ]
     },
     "execution_count": 31,
     "metadata": {},
     "output_type": "execute_result"
    }
   ],
   "source": [
    "minMaxScaler_fit[1][1].inverse_transform([y_predict[:10]])\n",
    "# observando os valores previstos"
   ]
  },
  {
   "cell_type": "code",
   "execution_count": 32,
   "metadata": {},
   "outputs": [
    {
     "data": {
      "text/plain": [
       "array([[ 99111., 129287.,  27170.,  12386.,  79806.,  48252., 127708.,\n",
       "        126579.,  33369.,  57201.]])"
      ]
     },
     "execution_count": 32,
     "metadata": {},
     "output_type": "execute_result"
    }
   ],
   "source": [
    "minMaxScaler_fit[1][1].inverse_transform([y_test[:10].values])\n",
    "# comparar os valores acima com os valores reais do set de teste"
   ]
  },
  {
   "cell_type": "code",
   "execution_count": 33,
   "metadata": {},
   "outputs": [
    {
     "data": {
      "text/plain": [
       "array([[50232.89625794]])"
      ]
     },
     "execution_count": 33,
     "metadata": {},
     "output_type": "execute_result"
    }
   ],
   "source": [
    "rmse = metrics.mean_squared_error(y_test, y_predict, squared=False)\n",
    "\n",
    "minMaxScaler_fit[1][1].inverse_transform([[rmse]])\n",
    "# RMSE dos dados previstos comparados aos dados reais"
   ]
  },
  {
   "cell_type": "code",
   "execution_count": 34,
   "metadata": {},
   "outputs": [
    {
     "data": {
      "text/plain": [
       "0.30886228168230495"
      ]
     },
     "execution_count": 34,
     "metadata": {},
     "output_type": "execute_result"
    }
   ],
   "source": [
    "rmse\n",
    "# mais uma vez demonstrando o valor sem a transformação da escala"
   ]
  },
  {
   "cell_type": "code",
   "execution_count": 35,
   "metadata": {},
   "outputs": [
    {
     "data": {
      "image/png": "[encoded data removed]",
      "text/plain": [
       "<Figure size 640x480 with 1 Axes>"
      ]
     },
     "metadata": {},
     "output_type": "display_data"
    }
   ],
   "source": [
    "fig = xgb.plot_importance(model)\n",
    "# observando as features que mais impactam na previsão no modelo"
   ]
  },
  {
   "cell_type": "code",
   "execution_count": 36,
   "metadata": {},
   "outputs": [],
   "source": [
    "fig = fig.figure\n",
    "fig.savefig('../feature_importance.png', dpi=300, bbox_inches='tight')\n",
    "# salvando a imagem para apresentá-la na dashboard em produção"
   ]
  },
  {
   "cell_type": "code",
   "execution_count": 37,
   "metadata": {},
   "outputs": [
    {
     "data": {
      "text/plain": [
       "['../model.jbl']"
      ]
     },
     "execution_count": 37,
     "metadata": {},
     "output_type": "execute_result"
    }
   ],
   "source": [
    "joblib.dump(model, '../model.jbl')\n",
    "# exportando o modelo treinado para ser usado na produção (dashboard)"
   ]
  },
  {
   "attachments": {},
   "cell_type": "markdown",
   "metadata": {},
   "source": [
    "> **PS.:** Neste projeto eu poderia ter realizado um *GridSearch* para obter os melhores hiperparâmetros do modelo escolhido, porém decidi não realizar já que se trata de um dataset fictício e com poucos registros, mas se fosse um projeto real e importante eu certamente utilizaria desta ferramenta."
   ]
  }
 ],
 "metadata": {
  "kernelspec": {
   "display_name": "Python 3",
   "language": "python",
   "name": "python3"
  },
  "language_info": {
   "codemirror_mode": {
    "name": "ipython",
    "version": 3
   },
   "file_extension": ".py",
   "mimetype": "text/x-python",
   "name": "python",
   "nbconvert_exporter": "python",
   "pygments_lexer": "ipython3",
   "version": "3.10.6"
  },
  "orig_nbformat": 4
 },
 "nbformat": 4,
 "nbformat_minor": 2
}
