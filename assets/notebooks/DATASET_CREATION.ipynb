{
 "cells": [
  {
   "attachments": {},
   "cell_type": "markdown",
   "metadata": {},
   "source": [
    "# Criando o Dataset Artificialmente\n",
    "\n",
    "Inicialmente eu busquei um dataset que se encaixasse com os requisitos do projeto, mas não consegui achar algo que se encaixasse com os requisitos. Então decidi criar um artificialmente (assim como foi dito na documentação que poderia ser feito) de acordo com minha interpretação da situação-problema.\n",
    "\n",
    "Por se tratar de um dataset fictício e randômico, os dados não possuem nenhuma relação entre sí, logo os dados e gráficos não terão nenhum sentido ao comparar com um exemplo real.\n",
    "\n",
    "Neste dataset \"artificial\" eu tentei adicionar inconsistências (valores nulos, duplicados, etc...) a fim de simular um dataset real, e então por em prática minhas habilidades em tratamento de dados."
   ]
  },
  {
   "cell_type": "code",
   "execution_count": 1,
   "metadata": {},
   "outputs": [],
   "source": [
    "import pandas as pd\n",
    "import random\n",
    "# importando os módulos para este notebook"
   ]
  },
  {
   "attachments": {},
   "cell_type": "markdown",
   "metadata": {},
   "source": [
    "## 1. Definindo as Variáveis"
   ]
  },
  {
   "cell_type": "code",
   "execution_count": 2,
   "metadata": {},
   "outputs": [],
   "source": [
    "date_interval = pd.date_range('2020-1-1', '2022-12-31')\n",
    "# definindo um intervalo de tempo para os dados"
   ]
  },
  {
   "cell_type": "code",
   "execution_count": 3,
   "metadata": {},
   "outputs": [],
   "source": [
    "df = pd.DataFrame({\n",
    "  'date': date_interval,\n",
    "  'invested': [random.randrange(20_000, 100_000) for i in range(len(date_interval))],\n",
    "  'returned': [random.randrange(10_000, 140_000) for i in range(len(date_interval))],\n",
    "  'sales_channel': [random.choice(['TV', 'Radio', 'Social Media', 'Print Advertising', 'social media', 'tv']) for i in range(len(date_interval))]\n",
    "})\n",
    "# gerando o dataframe artificial e randômico com o intervalo de data anteriormente definido\n",
    "\n",
    "# foi determinado um intervalo (min, max) para os valores de investimento e retorno, que são selecionados randômicamente\n",
    "\n",
    "# foi determinado randômicamente dentre os valores fornecidos, o valor para a coluna dos canais de venda\n",
    "# onde aproveitei para adicionar alguns valores inconsistêntes para simular um dataset real, que necessita de tratamento\n",
    "\n",
    "# em todas as colunas, com excessão da data, é feito um \"list comprehesion\" onde gerou-se a quantidade de registros\n",
    "# necessários para bater com a quantidade de dias na coluna das datas, usando o range(len(date_interval)"
   ]
  },
  {
   "cell_type": "code",
   "execution_count": 4,
   "metadata": {},
   "outputs": [
    {
     "data": {
      "text/html": [
       "<div>\n",
       "<style scoped>\n",
       "    .dataframe tbody tr th:only-of-type {\n",
       "        vertical-align: middle;\n",
       "    }\n",
       "\n",
       "    .dataframe tbody tr th {\n",
       "        vertical-align: top;\n",
       "    }\n",
       "\n",
       "    .dataframe thead th {\n",
       "        text-align: right;\n",
       "    }\n",
       "</style>\n",
       "<table border=\"1\" class=\"dataframe\">\n",
       "  <thead>\n",
       "    <tr style=\"text-align: right;\">\n",
       "      <th></th>\n",
       "      <th>date</th>\n",
       "      <th>invested</th>\n",
       "      <th>returned</th>\n",
       "      <th>sales_channel</th>\n",
       "    </tr>\n",
       "  </thead>\n",
       "  <tbody>\n",
       "    <tr>\n",
       "      <th>0</th>\n",
       "      <td>2020-01-01</td>\n",
       "      <td>74025</td>\n",
       "      <td>108610</td>\n",
       "      <td>Print Advertising</td>\n",
       "    </tr>\n",
       "    <tr>\n",
       "      <th>1</th>\n",
       "      <td>2020-01-02</td>\n",
       "      <td>33993</td>\n",
       "      <td>137278</td>\n",
       "      <td>tv</td>\n",
       "    </tr>\n",
       "    <tr>\n",
       "      <th>2</th>\n",
       "      <td>2020-01-03</td>\n",
       "      <td>92217</td>\n",
       "      <td>28635</td>\n",
       "      <td>Social Media</td>\n",
       "    </tr>\n",
       "    <tr>\n",
       "      <th>3</th>\n",
       "      <td>2020-01-04</td>\n",
       "      <td>79190</td>\n",
       "      <td>34487</td>\n",
       "      <td>Radio</td>\n",
       "    </tr>\n",
       "    <tr>\n",
       "      <th>4</th>\n",
       "      <td>2020-01-05</td>\n",
       "      <td>40134</td>\n",
       "      <td>43405</td>\n",
       "      <td>Social Media</td>\n",
       "    </tr>\n",
       "    <tr>\n",
       "      <th>...</th>\n",
       "      <td>...</td>\n",
       "      <td>...</td>\n",
       "      <td>...</td>\n",
       "      <td>...</td>\n",
       "    </tr>\n",
       "    <tr>\n",
       "      <th>1091</th>\n",
       "      <td>2022-12-27</td>\n",
       "      <td>34306</td>\n",
       "      <td>14006</td>\n",
       "      <td>tv</td>\n",
       "    </tr>\n",
       "    <tr>\n",
       "      <th>1092</th>\n",
       "      <td>2022-12-28</td>\n",
       "      <td>42139</td>\n",
       "      <td>37726</td>\n",
       "      <td>Print Advertising</td>\n",
       "    </tr>\n",
       "    <tr>\n",
       "      <th>1093</th>\n",
       "      <td>2022-12-29</td>\n",
       "      <td>87553</td>\n",
       "      <td>47059</td>\n",
       "      <td>Radio</td>\n",
       "    </tr>\n",
       "    <tr>\n",
       "      <th>1094</th>\n",
       "      <td>2022-12-30</td>\n",
       "      <td>20543</td>\n",
       "      <td>13637</td>\n",
       "      <td>TV</td>\n",
       "    </tr>\n",
       "    <tr>\n",
       "      <th>1095</th>\n",
       "      <td>2022-12-31</td>\n",
       "      <td>99984</td>\n",
       "      <td>23371</td>\n",
       "      <td>social media</td>\n",
       "    </tr>\n",
       "  </tbody>\n",
       "</table>\n",
       "<p>1096 rows × 4 columns</p>\n",
       "</div>"
      ],
      "text/plain": [
       "           date  invested  returned      sales_channel\n",
       "0    2020-01-01     74025    108610  Print Advertising\n",
       "1    2020-01-02     33993    137278                 tv\n",
       "2    2020-01-03     92217     28635       Social Media\n",
       "3    2020-01-04     79190     34487              Radio\n",
       "4    2020-01-05     40134     43405       Social Media\n",
       "...         ...       ...       ...                ...\n",
       "1091 2022-12-27     34306     14006                 tv\n",
       "1092 2022-12-28     42139     37726  Print Advertising\n",
       "1093 2022-12-29     87553     47059              Radio\n",
       "1094 2022-12-30     20543     13637                 TV\n",
       "1095 2022-12-31     99984     23371       social media\n",
       "\n",
       "[1096 rows x 4 columns]"
      ]
     },
     "execution_count": 4,
     "metadata": {},
     "output_type": "execute_result"
    }
   ],
   "source": [
    "df\n",
    "# como o df (dataframe) ficou afinal"
   ]
  },
  {
   "attachments": {},
   "cell_type": "markdown",
   "metadata": {},
   "source": [
    "## 2. Gerando dados inconsistentes para simular um dataset real"
   ]
  },
  {
   "attachments": {},
   "cell_type": "markdown",
   "metadata": {},
   "source": [
    "### 2.1 Gerando dados nulos"
   ]
  },
  {
   "cell_type": "code",
   "execution_count": 5,
   "metadata": {},
   "outputs": [],
   "source": [
    "for feature, n_nulls in [('invested', 20), ('returned', 50), ('sales_channel', 80)]:\n",
    "  df.loc[df.sample(n_nulls).index, feature] = None\n",
    "\n",
    "# gerando valores nulos em amostras aleatórias do df nas três columas acima"
   ]
  },
  {
   "cell_type": "code",
   "execution_count": 6,
   "metadata": {},
   "outputs": [
    {
     "data": {
      "text/plain": [
       "date              0\n",
       "invested         20\n",
       "returned         50\n",
       "sales_channel    80\n",
       "dtype: int64"
      ]
     },
     "execution_count": 6,
     "metadata": {},
     "output_type": "execute_result"
    }
   ],
   "source": [
    "df.isnull().sum()\n",
    "# verificando a criação dos valore nulos"
   ]
  },
  {
   "attachments": {},
   "cell_type": "markdown",
   "metadata": {},
   "source": [
    "### 2.2 Gerando dados duplicados"
   ]
  },
  {
   "cell_type": "code",
   "execution_count": 7,
   "metadata": {},
   "outputs": [],
   "source": [
    "df = pd.concat([df, df.sample(50)])\n",
    "# gerando valores 50 registros duplicados ao final do df"
   ]
  },
  {
   "cell_type": "code",
   "execution_count": 8,
   "metadata": {},
   "outputs": [
    {
     "data": {
      "text/plain": [
       "50"
      ]
     },
     "execution_count": 8,
     "metadata": {},
     "output_type": "execute_result"
    }
   ],
   "source": [
    "df.duplicated().sum()"
   ]
  },
  {
   "attachments": {},
   "cell_type": "markdown",
   "metadata": {},
   "source": [
    "### 2.3 Gerando valores nulos e negativos nas colunas de investimento e retorno, simulando uma inconsistência"
   ]
  },
  {
   "cell_type": "code",
   "execution_count": 9,
   "metadata": {},
   "outputs": [],
   "source": [
    "for i in range(30):\n",
    "  for feature in ['invested', 'returned']:\n",
    "    df.loc[df.sample().index, feature] = random.randrange(-5_000, 0)\n",
    "\n",
    "# gerando valores menores que 1 para as culunas de investimento e retorno,\n",
    "# simulando uma inconsistência que, ao menos neste caso em específico, não\n",
    "# há a possibilidade de haver um investimento ou retorno monetário menor do que 1"
   ]
  },
  {
   "cell_type": "code",
   "execution_count": 13,
   "metadata": {},
   "outputs": [
    {
     "data": {
      "text/html": [
       "<div>\n",
       "<style scoped>\n",
       "    .dataframe tbody tr th:only-of-type {\n",
       "        vertical-align: middle;\n",
       "    }\n",
       "\n",
       "    .dataframe tbody tr th {\n",
       "        vertical-align: top;\n",
       "    }\n",
       "\n",
       "    .dataframe thead th {\n",
       "        text-align: right;\n",
       "    }\n",
       "</style>\n",
       "<table border=\"1\" class=\"dataframe\">\n",
       "  <thead>\n",
       "    <tr style=\"text-align: right;\">\n",
       "      <th></th>\n",
       "      <th>date</th>\n",
       "      <th>invested</th>\n",
       "      <th>returned</th>\n",
       "      <th>sales_channel</th>\n",
       "    </tr>\n",
       "  </thead>\n",
       "  <tbody>\n",
       "    <tr>\n",
       "      <th>7</th>\n",
       "      <td>2020-01-08</td>\n",
       "      <td>66152.0</td>\n",
       "      <td>-1347.0</td>\n",
       "      <td>social media</td>\n",
       "    </tr>\n",
       "    <tr>\n",
       "      <th>56</th>\n",
       "      <td>2020-02-26</td>\n",
       "      <td>92236.0</td>\n",
       "      <td>-1853.0</td>\n",
       "      <td>Social Media</td>\n",
       "    </tr>\n",
       "    <tr>\n",
       "      <th>58</th>\n",
       "      <td>2020-02-28</td>\n",
       "      <td>-4143.0</td>\n",
       "      <td>56365.0</td>\n",
       "      <td>social media</td>\n",
       "    </tr>\n",
       "    <tr>\n",
       "      <th>70</th>\n",
       "      <td>2020-03-11</td>\n",
       "      <td>85854.0</td>\n",
       "      <td>-326.0</td>\n",
       "      <td>Radio</td>\n",
       "    </tr>\n",
       "    <tr>\n",
       "      <th>77</th>\n",
       "      <td>2020-03-18</td>\n",
       "      <td>-1598.0</td>\n",
       "      <td>41756.0</td>\n",
       "      <td>TV</td>\n",
       "    </tr>\n",
       "  </tbody>\n",
       "</table>\n",
       "</div>"
      ],
      "text/plain": [
       "         date  invested  returned sales_channel\n",
       "7  2020-01-08   66152.0   -1347.0  social media\n",
       "56 2020-02-26   92236.0   -1853.0  Social Media\n",
       "58 2020-02-28   -4143.0   56365.0  social media\n",
       "70 2020-03-11   85854.0    -326.0         Radio\n",
       "77 2020-03-18   -1598.0   41756.0            TV"
      ]
     },
     "execution_count": 13,
     "metadata": {},
     "output_type": "execute_result"
    }
   ],
   "source": [
    "df.query('invested < 1 or returned < 1').head()\n",
    "# verificando os registros nulos e negativos criados"
   ]
  },
  {
   "attachments": {},
   "cell_type": "markdown",
   "metadata": {},
   "source": [
    "### 2.4 Visualizando o resultado final e exportando o dataset"
   ]
  },
  {
   "cell_type": "code",
   "execution_count": 11,
   "metadata": {},
   "outputs": [
    {
     "data": {
      "text/html": [
       "<div>\n",
       "<style scoped>\n",
       "    .dataframe tbody tr th:only-of-type {\n",
       "        vertical-align: middle;\n",
       "    }\n",
       "\n",
       "    .dataframe tbody tr th {\n",
       "        vertical-align: top;\n",
       "    }\n",
       "\n",
       "    .dataframe thead th {\n",
       "        text-align: right;\n",
       "    }\n",
       "</style>\n",
       "<table border=\"1\" class=\"dataframe\">\n",
       "  <thead>\n",
       "    <tr style=\"text-align: right;\">\n",
       "      <th></th>\n",
       "      <th>date</th>\n",
       "      <th>invested</th>\n",
       "      <th>returned</th>\n",
       "      <th>sales_channel</th>\n",
       "    </tr>\n",
       "  </thead>\n",
       "  <tbody>\n",
       "    <tr>\n",
       "      <th>0</th>\n",
       "      <td>2020-01-01</td>\n",
       "      <td>74025.0</td>\n",
       "      <td>108610.0</td>\n",
       "      <td>Print Advertising</td>\n",
       "    </tr>\n",
       "    <tr>\n",
       "      <th>1</th>\n",
       "      <td>2020-01-02</td>\n",
       "      <td>33993.0</td>\n",
       "      <td>137278.0</td>\n",
       "      <td>tv</td>\n",
       "    </tr>\n",
       "    <tr>\n",
       "      <th>2</th>\n",
       "      <td>2020-01-03</td>\n",
       "      <td>92217.0</td>\n",
       "      <td>28635.0</td>\n",
       "      <td>Social Media</td>\n",
       "    </tr>\n",
       "    <tr>\n",
       "      <th>3</th>\n",
       "      <td>2020-01-04</td>\n",
       "      <td>79190.0</td>\n",
       "      <td>34487.0</td>\n",
       "      <td>Radio</td>\n",
       "    </tr>\n",
       "    <tr>\n",
       "      <th>4</th>\n",
       "      <td>2020-01-05</td>\n",
       "      <td>40134.0</td>\n",
       "      <td>43405.0</td>\n",
       "      <td>Social Media</td>\n",
       "    </tr>\n",
       "    <tr>\n",
       "      <th>...</th>\n",
       "      <td>...</td>\n",
       "      <td>...</td>\n",
       "      <td>...</td>\n",
       "      <td>...</td>\n",
       "    </tr>\n",
       "    <tr>\n",
       "      <th>1041</th>\n",
       "      <td>2022-11-07</td>\n",
       "      <td>-346.0</td>\n",
       "      <td>138362.0</td>\n",
       "      <td>Radio</td>\n",
       "    </tr>\n",
       "    <tr>\n",
       "      <th>358</th>\n",
       "      <td>2020-12-24</td>\n",
       "      <td>76492.0</td>\n",
       "      <td>123577.0</td>\n",
       "      <td>tv</td>\n",
       "    </tr>\n",
       "    <tr>\n",
       "      <th>367</th>\n",
       "      <td>2021-01-02</td>\n",
       "      <td>34097.0</td>\n",
       "      <td>127769.0</td>\n",
       "      <td>Social Media</td>\n",
       "    </tr>\n",
       "    <tr>\n",
       "      <th>1058</th>\n",
       "      <td>2022-11-24</td>\n",
       "      <td>68731.0</td>\n",
       "      <td>51069.0</td>\n",
       "      <td>Social Media</td>\n",
       "    </tr>\n",
       "    <tr>\n",
       "      <th>676</th>\n",
       "      <td>2021-11-07</td>\n",
       "      <td>82621.0</td>\n",
       "      <td>51151.0</td>\n",
       "      <td>Radio</td>\n",
       "    </tr>\n",
       "  </tbody>\n",
       "</table>\n",
       "<p>1146 rows × 4 columns</p>\n",
       "</div>"
      ],
      "text/plain": [
       "           date  invested  returned      sales_channel\n",
       "0    2020-01-01   74025.0  108610.0  Print Advertising\n",
       "1    2020-01-02   33993.0  137278.0                 tv\n",
       "2    2020-01-03   92217.0   28635.0       Social Media\n",
       "3    2020-01-04   79190.0   34487.0              Radio\n",
       "4    2020-01-05   40134.0   43405.0       Social Media\n",
       "...         ...       ...       ...                ...\n",
       "1041 2022-11-07    -346.0  138362.0              Radio\n",
       "358  2020-12-24   76492.0  123577.0                 tv\n",
       "367  2021-01-02   34097.0  127769.0       Social Media\n",
       "1058 2022-11-24   68731.0   51069.0       Social Media\n",
       "676  2021-11-07   82621.0   51151.0              Radio\n",
       "\n",
       "[1146 rows x 4 columns]"
      ]
     },
     "execution_count": 11,
     "metadata": {},
     "output_type": "execute_result"
    }
   ],
   "source": [
    "df"
   ]
  },
  {
   "cell_type": "code",
   "execution_count": 12,
   "metadata": {},
   "outputs": [],
   "source": [
    "df.to_csv('../data.csv', index=False)\n",
    "\n",
    "# exportando o dataset criado artificialmente, e com inconsistências (nulos, duplicatas, etc...), em um csv sem a coluna index"
   ]
  }
 ],
 "metadata": {
  "kernelspec": {
   "display_name": "Python 3",
   "language": "python",
   "name": "python3"
  },
  "language_info": {
   "codemirror_mode": {
    "name": "ipython",
    "version": 3
   },
   "file_extension": ".py",
   "mimetype": "text/x-python",
   "name": "python",
   "nbconvert_exporter": "python",
   "pygments_lexer": "ipython3",
   "version": "3.10.6"
  },
  "orig_nbformat": 4
 },
 "nbformat": 4,
 "nbformat_minor": 2
}
